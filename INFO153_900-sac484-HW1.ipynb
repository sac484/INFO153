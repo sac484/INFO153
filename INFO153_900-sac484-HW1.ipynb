{
 "cells": [
  {
   "cell_type": "markdown",
   "id": "0401eb07-26b4-495d-a2e1-52be8c056496",
   "metadata": {},
   "source": [
    "# INFO 153 Homework Assignment 1\n",
    "Problem : Validation of the opening and closing tags balance in an HTML document<br>\n",
    "Author : Seth Coward<br>\n",
    "Drexel ID : sac484<br>\n",
    "Date : 04/23/2025"
   ]
  },
  {
   "cell_type": "markdown",
   "id": "f328e477-d764-4254-8553-6f50d82f117a",
   "metadata": {},
   "source": [
    "## 1. The Stack Abstract Data Type and Data Structure Implementation\n",
    "The stack abstract data type is suitable for this problem because it is a simple data type that allows us to work in the correct order of operations to balance these tags. More specifically, we need to be able to look at things in reverse order to be able to check if things are balanced, which a stack allows us to do very easily with its last-in first-out structure."
   ]
  },
  {
   "cell_type": "markdown",
   "id": "25e29f78-6831-4aff-8eb8-9a2d366357c1",
   "metadata": {},
   "source": [
    "### Create Class for Stack Data Structure"
   ]
  },
  {
   "cell_type": "code",
   "execution_count": 1,
   "id": "8a3a51a1-2173-4676-8f17-58db7e9b526f",
   "metadata": {},
   "outputs": [],
   "source": [
    "# Implementation of stack data structure\n",
    "class Stack:\n",
    "    # sac484\n",
    "    # This class is for implementing a stack abstract data type as a data structure\n",
    "    # It conatins methods:\n",
    "    #     push(item): Adds an item to the top of the stack\n",
    "    #     pop(): Removes and returns the item at the top of the stack\n",
    "    #     peek(): Returns the item at the top of the stack\n",
    "    #     is_empty(): Checks if the stack is empty and returns a boolean accordingly\n",
    "    #     size(): Returns the size of the stack\n",
    "\n",
    "    # Constructor for stack\n",
    "    def __init__(self):\n",
    "        self.items = []\n",
    "\n",
    "    # Adds an item to the top of the stack\n",
    "    def push(self, item):\n",
    "        self.items.append(item)\n",
    "\n",
    "    # Removes and returns the item at the top of the stack\n",
    "    def pop(self):\n",
    "        # If stack is empty, there is nothing to pop, so return None\n",
    "        if self.is_empty():\n",
    "            return None\n",
    "        return self.items.pop()\n",
    "\n",
    "    # Returns the item at the top of the stack\n",
    "    def peek(self):\n",
    "        # If stack is empty, there is nothing to peek, so return None\n",
    "        if self.is_empty():\n",
    "            return None\n",
    "        return self.items[len(self.items) - 1]\n",
    "\n",
    "    # Checks if the stack is empty and returns a boolean accordingly\n",
    "    def is_empty(self):\n",
    "        return len(self.items) == 0\n",
    "\n",
    "    # Returns the size of the stack\n",
    "    def size(self):\n",
    "        return len(self.items)"
   ]
  },
  {
   "cell_type": "markdown",
   "id": "d4b64cc1-d67c-486b-a0e8-9251cc6ae2f4",
   "metadata": {},
   "source": [
    "## 2. \"html_checker\" Function Definition\n",
    "\n",
    "> Since we're using a standardized format for the HTML, I decided just to remove the slash from the closing tags instead of removing all symbols from both the opening and closing tags. To me, it's more efficient and makes the code easier to understand.<br>\n",
    "\n",
    "> I had to use single line comments for the function definition because the multi-line comment caused an error when running the code"
   ]
  },
  {
   "cell_type": "code",
   "execution_count": 2,
   "id": "6a49a7ed-b13b-4619-8939-572b94f2136d",
   "metadata": {},
   "outputs": [],
   "source": [
    "def html_checker(html_string):\n",
    "    # sac484\n",
    "    # This function checks a given string of HTML for balanced opening and closing tags\n",
    "    #\n",
    "    # Parameters:\n",
    "    # html_string (string): the HTML document\n",
    "    #\n",
    "    # Returns:\n",
    "    # True if the HTML document has balanced opening and closing tags\n",
    "    # False if otherwise\n",
    "\n",
    "    # Create an empty stack\n",
    "    stack = Stack()\n",
    "\n",
    "    # Boolean for end result of whether the document is balanced or not\n",
    "    balanced = True\n",
    "\n",
    "    # Split HTML document based on new line characters\n",
    "    html_lines = html_string.split(\"\\n\")\n",
    "\n",
    "    # Iterate over each line\n",
    "    for line in html_lines:\n",
    "        # If the line doesn't start with the less than symbol, indicating \n",
    "        # that it is not an HTML tag, skip it\n",
    "        if not line.startswith(\"<\"):\n",
    "            continue\n",
    "\n",
    "        # Check the second character in the tag for a slash, indicating that it is\n",
    "        # a closing tag if it is present and an opening tag if it is not\n",
    "        if line[1] != \"/\":\n",
    "            # Add tag to stack if it is an opening tag\n",
    "            stack.push(line)\n",
    "        else:\n",
    "            # Retrieve most recently stored opening tag\n",
    "            last_open_tag = stack.peek()\n",
    "            \n",
    "            # Remove the slash from a closing tag for easier comparison to opening tags\n",
    "            # Ex.\n",
    "            #    </html> -> <html> \n",
    "            #    <html> == <html>\n",
    "            line = line.replace(\"/\", \"\")\n",
    "            \n",
    "            if stack.is_empty() or line != last_open_tag:\n",
    "                # If the closing tag does not have an equivalent opening tag at the top of the stack,\n",
    "                # then the document is not balanced\n",
    "                balanced = False\n",
    "                break\n",
    "            else:\n",
    "                # Remove the last opening tag from the stack since it has a closing tag\n",
    "                stack.pop()\n",
    "\n",
    "    if balanced and stack.is_empty():\n",
    "        # The balanced variable must be true and the stack must be empty\n",
    "        # for the document to be truly balanced\n",
    "        return True\n",
    "    # Return False otherwise\n",
    "    return False"
   ]
  },
  {
   "cell_type": "markdown",
   "id": "b2b69398-c631-47d2-bde4-a89ed8aa38ce",
   "metadata": {},
   "source": [
    "## 3. Calling function "
   ]
  },
  {
   "cell_type": "markdown",
   "id": "83e32390-d1ff-4987-8909-6ffe74dd0aa4",
   "metadata": {},
   "source": [
    "### html_string_1 creation with function call and result output"
   ]
  },
  {
   "cell_type": "code",
   "execution_count": 3,
   "id": "5070a5d5-9106-4d58-bc16-8340f6aa07e6",
   "metadata": {},
   "outputs": [
    {
     "name": "stdout",
     "output_type": "stream",
     "text": [
      "Does the HTML document represented by html_string_1 have balanced tags? - True\n"
     ]
    }
   ],
   "source": [
    "html_string_1 = \"\"\"<html>\n",
    "<head>\n",
    "<title>\n",
    "An example of simple balanced HTML document\n",
    "</title>\n",
    "</head>\n",
    "<body>\n",
    "<h1>\n",
    "Hello, Jupyter Notebook!\n",
    "</h1>\n",
    "</body>\n",
    "</html>\"\"\"\n",
    "\n",
    "html_string_1_result = html_checker(html_string_1)\n",
    "print(f\"Does the HTML document represented by html_string_1 have balanced tags? - {html_string_1_result}\")"
   ]
  },
  {
   "cell_type": "markdown",
   "id": "a1768d60-3133-4441-b7ff-d99e4bef0646",
   "metadata": {},
   "source": [
    "### html_string_2 creation with function call and result output"
   ]
  },
  {
   "cell_type": "code",
   "execution_count": 4,
   "id": "81513f6a-77f9-447b-9067-e0639f0c862e",
   "metadata": {},
   "outputs": [
    {
     "name": "stdout",
     "output_type": "stream",
     "text": [
      "Does the HTML document represented by html_string_2 have balanced tags? - False\n"
     ]
    }
   ],
   "source": [
    "html_string_2 = \"\"\"<html>\n",
    "<head>\n",
    "<title>\n",
    "An example of simple unbalanced HTML document\n",
    "</title>\n",
    "</head>\n",
    "<body>\n",
    "<h1>\n",
    "Hello, Jupyter Notebook!\n",
    "</h1>\n",
    "</html>\"\"\"\n",
    "\n",
    "html_string_2_result = html_checker(html_string_2)\n",
    "print(f\"Does the HTML document represented by html_string_2 have balanced tags? - {html_string_2_result}\")"
   ]
  },
  {
   "cell_type": "markdown",
   "id": "4f0f38a8-859f-4c22-ab95-b9ad7cd62be3",
   "metadata": {},
   "source": [
    "## 5. User Input Implementation"
   ]
  },
  {
   "cell_type": "code",
   "execution_count": 5,
   "id": "a977704a-10c2-4efa-8cd9-51231367de53",
   "metadata": {},
   "outputs": [
    {
     "name": "stdout",
     "output_type": "stream",
     "text": [
      "Please Enter Your HTML Below:\n"
     ]
    },
    {
     "name": "stdin",
     "output_type": "stream",
     "text": [
      ">  <html>\n",
      ">  <head>\n",
      ">  <title>\n",
      ">  Test\n",
      ">  </title>\n",
      ">  </head>\n",
      ">  <body>\n",
      ">  <div>\n",
      ">  <h1>\n",
      ">  Test Heading\n",
      ">  </h1>\n",
      ">  </div>\n",
      ">  </body>\n",
      ">  </html>\n",
      ">  \n"
     ]
    },
    {
     "name": "stdout",
     "output_type": "stream",
     "text": [
      "\n",
      "Your Input:\n",
      "<html>\n",
      "<head>\n",
      "<title>\n",
      "Test\n",
      "</title>\n",
      "</head>\n",
      "<body>\n",
      "<div>\n",
      "<h1>\n",
      "Test Heading\n",
      "</h1>\n",
      "</div>\n",
      "</body>\n",
      "</html>\n",
      "\n",
      "The HTML document you just entered has balanced tags. Good job!\n"
     ]
    }
   ],
   "source": [
    "# Empty list to capture user input\n",
    "user_lines = []\n",
    "\n",
    "# Continuously capture user input until they enter a blank line\n",
    "print(\"Please Enter Your HTML Below:\")\n",
    "while True:\n",
    "    # Formatting input\n",
    "    line = input(\"> \")\n",
    "\n",
    "    # Stop the loop when user enters a blank line\n",
    "    if line == \"\":\n",
    "        break\n",
    "\n",
    "    # Add each line the user_lines list\n",
    "    user_lines.append(line)\n",
    "\n",
    "# Join each line of user input with a new line character for\n",
    "# compatibility with the html_checker function\n",
    "user_input = \"\\n\".join(user_lines)\n",
    "\n",
    "# Print what the user wrote\n",
    "print(f\"\\nYour Input:\\n{user_input}\\n\")\n",
    "\n",
    "# Capture balance result from user input\n",
    "user_input_result = html_checker(user_input)\n",
    "\n",
    "# Display an appropriate message depending on if the HTML from the user input\n",
    "# was balanced or not\n",
    "if user_input_result == True:\n",
    "    print(\"The HTML document you just entered has balanced tags. Good job!\")\n",
    "else:\n",
    "    print(\"The HTML document you just entered has unbalanced tags. Please debug!\")"
   ]
  }
 ],
 "metadata": {
  "kernelspec": {
   "display_name": "Python 3 (ipykernel)",
   "language": "python",
   "name": "python3"
  },
  "language_info": {
   "codemirror_mode": {
    "name": "ipython",
    "version": 3
   },
   "file_extension": ".py",
   "mimetype": "text/x-python",
   "name": "python",
   "nbconvert_exporter": "python",
   "pygments_lexer": "ipython3",
   "version": "3.13.2"
  }
 },
 "nbformat": 4,
 "nbformat_minor": 5
}
